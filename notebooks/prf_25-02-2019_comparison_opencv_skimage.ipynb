{
 "cells": [
  {
   "cell_type": "code",
   "execution_count": null,
   "metadata": {},
   "outputs": [],
   "source": [
    "import cv2\n",
    "import skimage as ski\n",
    "import os\n",
    "import matplotlib.pyplot as plt\n",
    "import numpy as np\n",
    "os.chdir(\"..\")\n",
    "os.getcwd()\n"
   ]
  },
  {
   "cell_type": "markdown",
   "metadata": {},
   "source": [
    "# Skimage vs Opencv: basic image processing comparison"
   ]
  },
  {
   "cell_type": "code",
   "execution_count": null,
   "metadata": {},
   "outputs": [],
   "source": [
    "img_ski = ski.io.imread(\"data/assets/input/img-0217.png\")\n",
    "img_ski= ski.img_as_float32(img_ski)\n",
    "\n",
    "type(img_ski),img_ski.dtype, img_ski.min(), img_ski.max()"
   ]
  },
  {
   "cell_type": "markdown",
   "metadata": {},
   "source": [
    "### Skimage vs Opencv: image loading and normalization"
   ]
  },
  {
   "cell_type": "code",
   "execution_count": null,
   "metadata": {},
   "outputs": [],
   "source": [
    "img_cv = cv2.imread(\"data/assets/input/img-0217.png\")\n",
    "img_cv = cv2.cvtColor(img_cv,cv2.COLOR_BGR2RGB)\n",
    "img_cv = cv2.normalize(img_cv, None, alpha=0, beta=1, norm_type=cv2.NORM_MINMAX, dtype=cv2.CV_64F)\n",
    "type(img_cv),img_cv.dtype, img_cv.min(), img_cv.max()"
   ]
  },
  {
   "cell_type": "code",
   "execution_count": null,
   "metadata": {},
   "outputs": [],
   "source": [
    "f,axs = plt.subplots(nrows=1,ncols=2,figsize=(15,50))\n",
    "axs[0].imshow(img_ski)\n",
    "axs[0].set_title(\"Skimage image\")\n",
    "axs[1].imshow(img_cv)\n",
    "axs[1].set_title(\"OpenCV image\")\n",
    "plt.show()"
   ]
  },
  {
   "cell_type": "code",
   "execution_count": null,
   "metadata": {},
   "outputs": [],
   "source": [
    "diff_img=np.abs(img_cv-img_ski)\n",
    "diff_img.min(),diff_img.max()"
   ]
  },
  {
   "cell_type": "markdown",
   "metadata": {},
   "source": [
    "### Skimage vs Opencv: image downscaling"
   ]
  },
  {
   "cell_type": "code",
   "execution_count": null,
   "metadata": {},
   "outputs": [],
   "source": [
    "f2,axs2= plt.subplots(nrows=1,ncols=2,figsize=(15,50))\n",
    "\n",
    "axs2[0].imshow(ski.transform.resize(img_ski,(50,50)))\n",
    "axs2[0].set_title(\"Skimage image w/ default settings\")\n",
    "axs2[1].imshow(cv2.resize(img_cv,(50,50)))\n",
    "axs2[1].set_title(\"OpenCV image\")\n",
    "plt.show()"
   ]
  },
  {
   "cell_type": "code",
   "execution_count": null,
   "metadata": {},
   "outputs": [],
   "source": [
    "f2,axs3= plt.subplots(nrows=1,ncols=2,figsize=(15,50))\n",
    "\n",
    "axs3[0].imshow(ski.transform.resize(img_ski,(50,50),order=0,anti_aliasing=False))\n",
    "axs3[0].set_title(\"Skimage image w/ no antialiasing and nearest interpolation\")\n",
    "axs3[1].imshow(cv2.resize(img_cv,(50,50)))\n",
    "axs3[1].set_title(\"OpenCV image\")\n",
    "plt.show()"
   ]
  },
  {
   "cell_type": "markdown",
   "metadata": {},
   "source": [
    "### Analysis\n",
    " Le immagini sembrano abbastanza uguali, l'unica differenza percepibile è il **livello d'intensità minimo**, in opencv viene applicata una normalizazzione *min-max* pura, riscalando i valori nel range: **[0-1]**; in skimage viene applicata un normalizzazione *min-max* cercando di rispettare la scala d'intensità originale, si nota infatti come il range normalizzato risulta: **[~0.1,1]**.\n",
    " \n",
    " Per quanto riguarda l'algoritmo di **downscaling**, le impostazioni di default di entrambe le librerie portano agli stessi risultati."
   ]
  }
 ],
 "metadata": {
  "kernelspec": {
   "display_name": "Python 3",
   "language": "python",
   "name": "python3"
  },
  "language_info": {
   "codemirror_mode": {
    "name": "ipython",
    "version": 3
   },
   "file_extension": ".py",
   "mimetype": "text/x-python",
   "name": "python",
   "nbconvert_exporter": "python",
   "pygments_lexer": "ipython3",
   "version": "3.6.7"
  }
 },
 "nbformat": 4,
 "nbformat_minor": 2
}
