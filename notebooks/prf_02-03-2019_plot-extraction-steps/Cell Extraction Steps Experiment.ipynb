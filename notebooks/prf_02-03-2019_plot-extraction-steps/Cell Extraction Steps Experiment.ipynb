{
 "cells": [
  {
   "cell_type": "code",
   "execution_count": null,
   "metadata": {},
   "outputs": [],
   "source": [
    "import os\n",
    "import sys\n",
    "import numpy as np\n",
    "import matplotlib as mpl\n",
    "import matplotlib.pyplot as plt\n",
    "import skimage.io as io\n",
    "from src.data_manager import DataManager\n",
    "import src.watershed_extraction as we\n",
    "import notebooks.plotutils as pltutils\n",
    "\n",
    "GEN_PATH=\"generated\" #path to save generated images\n",
    "EXPORT_DPI=300"
   ]
  },
  {
   "cell_type": "code",
   "execution_count": null,
   "metadata": {},
   "outputs": [],
   "source": [
    "data_manager = DataManager(\"assets\") #local (relative to cwd) assets directory\n",
    "\n",
    "print(\"Select index from:\")\n",
    "images = data_manager.get_input_images()\n",
    "for i, file in enumerate(images):\n",
    "    print(\"{}: {}\".format(file, i))\n",
    "\n",
    "   "
   ]
  },
  {
   "cell_type": "code",
   "execution_count": null,
   "metadata": {},
   "outputs": [],
   "source": [
    "choice=21\n",
    "image = io.imread(images[choice])\n",
    "steps = we.detect_cells(image,return_steps=True)"
   ]
  },
  {
   "cell_type": "markdown",
   "metadata": {},
   "source": [
    "### First Step: Image Smoothing"
   ]
  },
  {
   "cell_type": "code",
   "execution_count": null,
   "metadata": {},
   "outputs": [],
   "source": [
    "fig_step_1, fig_1_axs = plt.subplots(ncols=2,figsize=(10,5), dpi=300)\n",
    "\n",
    "fig_1_axs[0].imshow(steps.input)\n",
    "fig_1_axs[0].set_title(\"Input image\")\n",
    "fig_1_axs[0].set_axis_off()\n",
    "\n",
    "fig_1_axs[1].imshow(steps.meanshift)\n",
    "fig_1_axs[1].set_title(\"Mean-shifted image\")\n",
    "fig_1_axs[1].set_axis_off()\n",
    "\n",
    "fig_step_1.savefig(os.path.join(GEN_PATH,\"step#1.png\"),transparent=True, frameon=False)"
   ]
  },
  {
   "cell_type": "markdown",
   "metadata": {},
   "source": [
    "### Second Step:  Thresholding Binarization"
   ]
  },
  {
   "cell_type": "code",
   "execution_count": null,
   "metadata": {},
   "outputs": [],
   "source": [
    "fig_step_2, fig_2_axs = plt.subplots(ncols=3,figsize=(15,5), dpi=EXPORT_DPI)\n",
    "\n",
    "fig_2_axs[0].set_title(\"Grayscale image\")\n",
    "fig_2_axs[0].imshow(steps.grayscale, cmap=\"gray\")\n",
    "fig_2_axs[0].set_axis_off()\n",
    "\n",
    "fig_2_axs[1].set_title(\"Binary image\")\n",
    "fig_2_axs[1].imshow(steps.binary, cmap=\"binary\")\n",
    "fig_2_axs[1].set_axis_off()\n",
    "\n",
    "fig_2_axs[2].set_title(\"Morphological dilated image\")\n",
    "fig_2_axs[2].imshow(steps.dilation, cmap=\"binary\")\n",
    "fig_2_axs[2].set_axis_off()\n",
    "\n",
    "fig_step_2.savefig(os.path.join(GEN_PATH,\"step#2.png\"),transparent=True, frameon=False)"
   ]
  },
  {
   "cell_type": "markdown",
   "metadata": {},
   "source": [
    "### Third Step: Watershed Segmentation"
   ]
  },
  {
   "cell_type": "code",
   "execution_count": null,
   "metadata": {},
   "outputs": [],
   "source": [
    "\n",
    "fig_step_3, fig_3_axs = plt.subplots(ncols=3,figsize=(15,5), dpi=EXPORT_DPI)\n",
    "colmap = mpl.cm.get_cmap(\"tab20b\",np.unique(steps.labels).size) \n",
    "\n",
    "fig_3_axs[0].imshow(steps.distance, cmap=\"gray\")\n",
    "fig_3_axs[0].set_title(\"Distance map\")\n",
    "fig_3_axs[0].set_axis_off()\n",
    "\n",
    "fig_3_axs[1].imshow(steps.labels,cmap=colmap)\n",
    "fig_3_axs[1].set_title(\"Watershed segments\")\n",
    "fig_3_axs[1].set_axis_off()\n",
    "\n",
    "imaxes=fig_3_axs[2].imshow(steps.filtered_labels,cmap=colmap)\n",
    "fig_3_axs[2].set_title(\"Watershed filtered segments\")\n",
    "fig_3_axs[2].set_axis_off()\n",
    "cbar = fig_step_3.colorbar(imaxes, ax=fig_3_axs[1:3], orientation=\"horizontal\")\n",
    "cbar.ax.set_title(\"Label id\")\n",
    "cbar.ax\n",
    "fig_step_3.savefig(os.path.join(GEN_PATH,\"step#3.png\"),transparent=True, frameon=False)"
   ]
  },
  {
   "cell_type": "markdown",
   "metadata": {},
   "source": [
    "### Detected cells"
   ]
  },
  {
   "cell_type": "code",
   "execution_count": null,
   "metadata": {},
   "outputs": [],
   "source": [
    "fig_extracted, extracted_ax = plt.subplots(figsize=(10,10),dpi=300)\n",
    "\n",
    "extracted_ax.imshow(steps.input)\n",
    "pltutils.add_regions_annotations(steps.filtered_labels, extracted_ax, pltutils.box_annotator, fill=False, color=\"white\",linewidth=1.25, linestyle=\"--\")\n",
    "pltutils.add_regions_annotations(steps.filtered_labels, extracted_ax, pltutils.label_annotator, color=\"white\")"
   ]
  }
 ],
 "metadata": {
  "kernelspec": {
   "display_name": "Python 3",
   "language": "python",
   "name": "python3"
  },
  "language_info": {
   "codemirror_mode": {
    "name": "ipython",
    "version": 3
   },
   "file_extension": ".py",
   "mimetype": "text/x-python",
   "name": "python",
   "nbconvert_exporter": "python",
   "pygments_lexer": "ipython3",
   "version": "3.6.7"
  }
 },
 "nbformat": 4,
 "nbformat_minor": 2
}
