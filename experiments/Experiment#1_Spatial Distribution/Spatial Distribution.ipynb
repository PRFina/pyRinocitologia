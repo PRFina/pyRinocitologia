{
 "cells": [
  {
   "cell_type": "markdown",
   "metadata": {},
   "source": [
    "# Fields Spatial Distribution Analysis"
   ]
  },
  {
   "cell_type": "code",
   "execution_count": null,
   "metadata": {},
   "outputs": [],
   "source": [
    "%load_ext autoreload\n",
    "%autoreload 2"
   ]
  },
  {
   "cell_type": "markdown",
   "metadata": {},
   "source": [
    "##### Environment Setup"
   ]
  },
  {
   "cell_type": "code",
   "execution_count": null,
   "metadata": {},
   "outputs": [],
   "source": [
    "import sys\n",
    "from pathlib import Path\n",
    "\n",
    "## Libraries import\n",
    "import numpy as np\n",
    "import pandas as pd\n",
    "import skimage as ski\n",
    "import skimage.morphology as skimorph\n",
    "import skimage.measure as skimeasure\n",
    "import skimage.feature as skifeature\n",
    "from skimage.measure import regionprops\n",
    "import scipy as sci\n",
    "import scipy.stats as stats\n",
    "import cv2 as cv2\n",
    "import matplotlib.pyplot as plt\n",
    "import matplotlib as mpl\n",
    "from mpl_toolkits.axes_grid1 import make_axes_locatable\n",
    "import seaborn as sns\n",
    "\n",
    "import skimage.future.graph as skigraph\n",
    "import networkx as nx\n",
    "\n",
    "# Project import\n",
    "from src.processing.utils import Sampler, LatexDoc\n",
    "from src.processing.feature_extraction import *\n",
    "from src.processing.image_processing import *\n",
    "\n",
    "\n",
    "#Setup the environment\n",
    "np.random.seed(1994)\n",
    "\n",
    "generated_dir = Path(\"generated\")\n",
    "generated_dir.mkdir(exist_ok=True)\n",
    "report_doc = LatexDoc()\n",
    "\n",
    "sm_color = \"#3498db\"\n",
    "cyt_color = \"#f39c12\"\n",
    "mpl.rcParams['font.family']  = 'sans-serif'\n",
    "mpl.rcParams['font.serif']  = 'Verdana'\n",
    "mpl.rcParams['axes.titlesize'] = 'x-large'\n",
    "mpl.rcParams['axes.labelsize'] = 'x-large'\n",
    "mpl.rcParams['xtick.labelsize'] ='medium'\n",
    "mpl.rcParams['ytick.labelsize'] ='medium'\n",
    "\n",
    "LOAD_PREVIOUS_RESULTS = True"
   ]
  },
  {
   "cell_type": "code",
   "execution_count": null,
   "metadata": {},
   "outputs": [],
   "source": [
    "def quantiles_indeces(array): ## quick utility function\n",
    "    return[0, \n",
    "           np.around(len(array)/4).astype(np.intp), \n",
    "           np.around(len(array)/2).astype(np.intp),\n",
    "           np.around(3*len(array)/4).astype(np.intp),\n",
    "           -1]"
   ]
  },
  {
   "cell_type": "markdown",
   "metadata": {},
   "source": [
    "## Sampling Datasets and Load Field Images"
   ]
  },
  {
   "cell_type": "code",
   "execution_count": null,
   "metadata": {},
   "outputs": [],
   "source": [
    "sm_sampler = Sampler(seed=420, in_dir=\"../../Datasets/Fields/Smear\")\n",
    "cyt_sampler = Sampler(seed=420, in_dir=\"../../Datasets/Fields/Cytospin\")\n",
    "\n",
    "nsamples = 450\n",
    "sm_images = ski.io.imread_collection(sm_sampler.sampling(sample_size=nsamples))\n",
    "cyt_images =  ski.io.imread_collection(cyt_sampler.sampling(sample_size=nsamples))\n",
    "print(\"Smeared dataset size: {}, sampled {} images\".format(sm_sampler.get_dataset_size(), len(sm_images)))\n",
    "print(\"Cytospin dataset size: {}, sampled {} images\".format(cyt_sampler.get_dataset_size(), len(cyt_images)))\n",
    "print(\"Sample size differs of: {}\".format(np.abs(len(cyt_images) - len(sm_images))))\n",
    "\n",
    "\n",
    "# Get an equal number of samples\n",
    "min_samples = min(len(sm_images),len(cyt_images))\n",
    "sm_images = sm_images[0:min_samples]\n",
    "cyt_images = cyt_images[0:min_samples]\n",
    "\n",
    "print(\"Smeared dataset size: {}, sampled {} images\".format(sm_sampler.get_dataset_size(), len(sm_images)))\n",
    "print(\"Cytospin dataset size: {}, sampled {} images\".format(cyt_sampler.get_dataset_size(), len(cyt_images)))\n",
    "print(\"Sample size differs of: {}\".format(np.abs(len(cyt_images) - len(sm_images))))\n",
    "\n",
    "report_doc.add_variable(\"sm_dataset_size\", sm_sampler.get_dataset_size())\n",
    "report_doc.add_variable(\"cyt_dataset_size\", cyt_sampler.get_dataset_size())\n",
    "report_doc.add_variable(\"sample_size\", nsamples)\n",
    "report_doc.add_variable(\"sample_min_size\", min_samples)"
   ]
  },
  {
   "cell_type": "markdown",
   "metadata": {},
   "source": [
    "##### Select random images as examples"
   ]
  },
  {
   "cell_type": "code",
   "execution_count": null,
   "metadata": {},
   "outputs": [],
   "source": [
    "sm_img_index = np.random.randint(0,len(sm_images)+1)\n",
    "cyt_img_index = np.random.randint(0,len(cyt_images)+1)"
   ]
  },
  {
   "cell_type": "markdown",
   "metadata": {},
   "source": [
    "## Density Analysis"
   ]
  },
  {
   "cell_type": "markdown",
   "metadata": {},
   "source": [
    "#### Preprocessing: Binarization"
   ]
  },
  {
   "cell_type": "code",
   "execution_count": null,
   "metadata": {},
   "outputs": [],
   "source": [
    "%%time\n",
    "if not LOAD_PREVIOUS_RESULTS:\n",
    "    sm_binary = np.asarray([binarization(img) for img in sm_images])\n",
    "    cyt_binary = np.asarray([binarization(img) for img in cyt_images])"
   ]
  },
  {
   "cell_type": "markdown",
   "metadata": {},
   "source": [
    "##### Preprocessing steps visualization"
   ]
  },
  {
   "cell_type": "code",
   "execution_count": null,
   "metadata": {},
   "outputs": [],
   "source": [
    "fig, ax = plt.subplots(ncols=2,figsize=(10,8))\n",
    "\n",
    "sm_img = sm_images[sm_img_index]\n",
    "ax[0].imshow(sm_img)\n",
    "ax[0].set_title(\"Full Color\")\n",
    "ax[0].set_axis_off()\n",
    "\n",
    "sm_binary_img = binarization(sm_img)\n",
    "ax[1].imshow(sm_binary_img, cmap=mpl.cm.gray)\n",
    "ax[1].set_title(\"Binaria\")\n",
    "ax[1].set_axis_off()\n",
    "\n",
    "    \n",
    "fig.tight_layout()       \n",
    "fig.savefig(str(generated_dir/\"density_preprocessing_steps.pdf\"), bbox_inches='tight', transparent=True)"
   ]
  },
  {
   "cell_type": "markdown",
   "metadata": {},
   "source": [
    "## Density Measure\n",
    "Given an a **binary image** $B$ with width $w$ and height $h$. We compute the histogram $H(B)$, since $B$ is a binary image:\n",
    "\n",
    "$$ H(B) = (h_0,h_1)$$\n",
    "\n",
    "Where $h_0$ and $h_1$ are the **absolute frequencies** of the *background* and *foreground* pixels. We define the **density measure** of $B$ as:\n",
    "\n",
    "$$ \\delta(B) = \\frac{h_1}{w\\times h} $$\n",
    "\n",
    "i.e the relative frequency of foreground pixels. Notice that: $ 0 \\leq \\delta(B) \\leq 1$, so in dual way, we can define also the **sparsity measure** as:\n",
    "\n",
    "$$ \\sigma(B) = 1 - \\delta(B) = \\frac{h_0}{w \\times h} $$"
   ]
  },
  {
   "cell_type": "markdown",
   "metadata": {},
   "source": [
    "#### Compute density for dataset"
   ]
  },
  {
   "cell_type": "code",
   "execution_count": null,
   "metadata": {
    "scrolled": true
   },
   "outputs": [],
   "source": [
    "%%time\n",
    "\n",
    "if LOAD_PREVIOUS_RESULTS:\n",
    "    features_df = pd.read_csv(\"density_dataframe.csv\")\n",
    "else:\n",
    "    features_df = pd.DataFrame(columns=[\"sm_dens\",\"cyt_dens\",\"sm_spars\",\"cyt_spars\"])\n",
    "\n",
    "    features_df[\"sm_dens\"] = np.asarray([density(img) for img in sm_binary])\n",
    "    features_df[\"cyt_dens\"] = np.asarray([density(img) for img in cyt_binary])\n",
    "\n",
    "    features_df[\"sm_spars\"] = 1 - features_df[\"sm_dens\"]\n",
    "    features_df[\"cyt_spars\"] = 1 - features_df[\"cyt_dens\"]\n",
    "\n",
    "    features_df.to_csv(\"density_dataframe.csv\", index=False)  \n"
   ]
  },
  {
   "cell_type": "markdown",
   "metadata": {},
   "source": [
    "##### Visualize rapresentative samples"
   ]
  },
  {
   "cell_type": "code",
   "execution_count": null,
   "metadata": {},
   "outputs": [],
   "source": [
    "sm_dens_ndarray = features_df['sm_dens'].to_numpy()\n",
    "sm_indeces = np.argsort(sm_dens_ndarray)[quantiles_indeces(sm_dens_ndarray)]\n",
    "\n",
    "cyt_dens_ndarray = features_df['cyt_dens'].to_numpy()\n",
    "cyt_indeces = np.argsort(cyt_dens_ndarray)[quantiles_indeces(cyt_dens_ndarray)]\n",
    "    \n",
    "\n",
    "titles= ['Min', 'Q1', 'Q2', 'Q3', 'Max']\n",
    "fig, axes = plt.subplots(nrows=2, ncols=5, figsize=(16,5))\n",
    "for index, q, title, ax in zip(sm_indeces, sm_dens_ndarray[sm_indeces], titles, axes[0]):\n",
    "    ax.imshow(sm_images[index])\n",
    "    ax.set_title(\"{}:  $\\\\delta={:.4f}$\".format(title, q))\n",
    "    ax.set_axis_off()\n",
    "\n",
    "for index, q, title, ax in zip(cyt_indeces, cyt_dens_ndarray[cyt_indeces], titles,  axes[1]):\n",
    "    ax.imshow(cyt_images[index])\n",
    "    ax.set_title(\"{}:  $\\\\delta={:.4f}$\".format(title, q))\n",
    "    ax.set_axis_off()\n",
    "\n",
    "\n",
    "fig.tight_layout()\n",
    "fig.savefig(str(generated_dir/\"density_examples.pdf\"), bbox_inches='tight', transparent=True)\n"
   ]
  },
  {
   "cell_type": "markdown",
   "metadata": {},
   "source": [
    "##### Density distributions analysis"
   ]
  },
  {
   "cell_type": "markdown",
   "metadata": {},
   "source": [
    "##### VIsualize Distributions Histrograms"
   ]
  },
  {
   "cell_type": "code",
   "execution_count": null,
   "metadata": {},
   "outputs": [],
   "source": [
    "fig, ax = plt.subplots(nrows=2, ncols=1,figsize=(8,6))\n",
    "\n",
    "# Smear Histogram\n",
    "ax[0].hist(features_df[\"sm_dens\"]*100, bins=50, range=[0,100],\n",
    "           color= sm_color, edgecolor=\"white\", label=\"Smeared\")\n",
    "\n",
    "ax[0].set_title(\"Distribuzione densità (SM)\")\n",
    "ax[0].set_xticks(np.arange(0,110,10))\n",
    "ax[0].set_xlabel(\"Densità $\\\\delta$ (%)\")\n",
    "ax[0].set_ylabel(\"Campi\")\n",
    "#ax[0].xaxis.set_major_formatter(mpl.ticker.PercentFormatter())\n",
    "\n",
    "\n",
    "## Cytospin Histogram\n",
    "ax[1].hist(features_df[\"cyt_dens\"]*100, bins=50, range=[0,100], \n",
    "           color=cyt_color, edgecolor=\"white\", label=\"Cytospin\")\n",
    "ax[1].set_title(\"Distribuzione Densità (CYT)\")\n",
    "ax[1].set_xticks(np.arange(0,110,10))\n",
    "ax[1].set_xlabel(\"Densità $\\\\delta$ (%)\")\n",
    "ax[1].set_ylabel(\"Campi\")\n",
    "#ax[1].xaxis.set_major_formatter(mpl.ticker.PercentFormatter())\n",
    "\n",
    "fig.tight_layout()\n",
    "fig.savefig(str(generated_dir/\"density_histograms.pdf\"), bbox_inches='tight', transparent=True)"
   ]
  },
  {
   "cell_type": "markdown",
   "metadata": {},
   "source": [
    "##### VIsualize Distribution Boxplots"
   ]
  },
  {
   "cell_type": "code",
   "execution_count": null,
   "metadata": {},
   "outputs": [],
   "source": [
    "fig, ax = plt.subplots(nrows=1, ncols=1, figsize=(8,6))\n",
    "sns.boxplot(data=features_df[['sm_dens','cyt_dens']], width=0.5, fliersize=1.5, linewidth=1.25, saturation=1.0, palette=[sm_color,cyt_color], ax=ax)\n",
    "ax.set_ylabel('Densità $\\\\delta$')\n",
    "ax.set_xlabel('Tecnica di processamento')\n",
    "ax.set_xticklabels(['SM','CYT'])\n",
    "ax.set_ylim([0.0,1.0])\n",
    "ax.set_yticks(np.arange(0,1.1,0.1))\n",
    "\n",
    "fig.savefig(str(generated_dir / \"density_boxplot.pdf\"), bbox_inches='tight', transparent=True)"
   ]
  },
  {
   "cell_type": "markdown",
   "metadata": {},
   "source": [
    "The smeared and cytospin population have 157 samples, each one is a field image.\n",
    "\n",
    "As we can see from the histogram plot, the cytospin variable seems to fit to an *exponential distribution*: almost the entire population have a density value between $0\\%-5\\%$, with a typical **exponential decay towards middle density values** and practically no image have a density over $50\\%$.\n",
    "\n",
    "The smear variable have a **skewed distribution**: the population is much more **uniform** with density values in a more **spreaded range** between $5\\%-45\\%$. In this case, no image have a density over $75\\%$.\n",
    "\n",
    "\n",
    "\n",
    "\n",
    "\n"
   ]
  },
  {
   "cell_type": "markdown",
   "metadata": {},
   "source": [
    "### Normality test\n",
    "From the distributions histogram plot seems that samples from both distribution doesn'tdistributes normally, especially the CYT one.\n",
    "We choose **Shapiro-Wilkinson** as normality test with a confidence level of $95\\%$"
   ]
  },
  {
   "cell_type": "code",
   "execution_count": null,
   "metadata": {},
   "outputs": [],
   "source": [
    "s,p = stats.shapiro(features_df[\"sm_dens\"])\n",
    "print(\"p-value: {}\".format(p))\n",
    "if p <= 0.05:\n",
    "    print(\"H0 rejected\")"
   ]
  },
  {
   "cell_type": "code",
   "execution_count": null,
   "metadata": {},
   "outputs": [],
   "source": [
    "\n",
    "s,p = stats.shapiro(features_df[\"cyt_dens\"])\n",
    "print(\"p-value: {}\".format(p))\n",
    "if p <= 0.05:\n",
    "    print(\"H0 rejected\")"
   ]
  },
  {
   "cell_type": "markdown",
   "metadata": {},
   "source": [
    "both $p$-values are less than $0.05$, we can reject the null hypothesis of normally distributed samples from the test"
   ]
  },
  {
   "cell_type": "markdown",
   "metadata": {},
   "source": [
    "##### Descriptive statistics"
   ]
  },
  {
   "cell_type": "code",
   "execution_count": null,
   "metadata": {},
   "outputs": [],
   "source": [
    "density_stats = features_df[['sm_dens','cyt_dens']].describe()\n",
    "\n",
    "#remove useless statistics\n",
    "density_stats.drop('mean', inplace=True)\n",
    "density_stats.drop('std', inplace=True)\n",
    "\n",
    "# add new statics\n",
    "mad_scale_factors = 1 / np.quantile(features_df[['sm_dens','cyt_dens']], q=0.75, axis=0) ## https://www.r-bloggers.com/absolute-deviation-around-the-median/\n",
    "mad = pd.Series(stats.median_absolute_deviation(features_df[['sm_dens','cyt_dens']],scale=mad_scale_factors),  name='MAD', index=['sm_dens','cyt_dens'])\n",
    "density_stats = density_stats.append(mad)\n",
    "\n",
    "iqr = pd.Series(stats.iqr(features_df[['sm_dens','cyt_dens']].to_numpy(), axis=0), name='IQR', index=['sm_dens','cyt_dens'])\n",
    "density_stats = density_stats.append(iqr)\n",
    "\n",
    "# rename rows index and columns \n",
    "density_stats = density_stats.rename(index={'count':'# campi',\n",
    "                             '25%':'Q1', \n",
    "                             '50%':'Median', \n",
    "                             '75%':'Q3'},\n",
    "                     columns={'sm_dens':'Smear',\n",
    "                              'cyt_dens':'Cytospin'})\n"
   ]
  },
  {
   "cell_type": "code",
   "execution_count": null,
   "metadata": {},
   "outputs": [],
   "source": [
    "density_stats.T"
   ]
  },
  {
   "cell_type": "code",
   "execution_count": null,
   "metadata": {},
   "outputs": [],
   "source": [
    "density_stats.T[['# campi','min','max','Q1','Median', 'Q3', 'MAD', 'IQR']].to_latex(generated_dir/'density_summary_stats_table.tex', float_format='%1.4f') #Save to table a transposed dataframe"
   ]
  },
  {
   "cell_type": "markdown",
   "metadata": {},
   "source": [
    "##### Sparsity vs Density Visualization\n",
    "For agument the interpetability of the measures, we present density and sparsity as percentage"
   ]
  },
  {
   "cell_type": "code",
   "execution_count": null,
   "metadata": {},
   "outputs": [],
   "source": [
    "features_stats = features_df.describe()\n",
    "bar_width=0.15\n",
    "x = np.array([1,1.35])\n",
    "\n",
    "\n",
    "fig, ax = plt.subplots(nrows=1, ncols=1, figsize=(8,6))\n",
    "\n",
    "sm_medians = [features_stats[\"sm_spars\"]['50%']*100, features_stats[\"sm_dens\"]['50%']*100] # 50% is the second qurtile, aka the median\n",
    "cyt_medians = [features_stats[\"cyt_spars\"]['50%']*100, features_stats[\"cyt_dens\"]['50%']*100]\n",
    "\n",
    "ax.bar(x, sm_medians , width=bar_width,\n",
    "       align=\"edge\", color=\"#3498db\", \n",
    "       edgecolor=\"white\", label=\"Smeared\")\n",
    "\n",
    "ax.bar(x+bar_width, cyt_medians, width=bar_width,\n",
    "       align=\"edge\", color=\"#f39c12\",\n",
    "       edgecolor=\"white\", label=\"Cytospin\") \n",
    "\n",
    "\n",
    "ax.set_xticks(x+bar_width)\n",
    "ax.set_xticklabels([\"Background (Sparsity)\",\"Foreground (Density)\"])\n",
    "ax.set_ylim((0,100))\n",
    "ax.set_yticks(np.arange(0,110,10))\n",
    "#ax.yaxis.set_major_formatter(mpl.ticker.PercentFormatter())\n",
    "ax.set_ylabel(\"Pixels (%)\")\n",
    "ax.legend(loc='upper left', bbox_to_anchor=(0.785,0.98), ncol=1)\n",
    "\n",
    "fig.savefig(str(generated_dir/\"avg_sparsity_density_barplot.pdf\"), bbox_inches='tight', transparent=True)\n"
   ]
  },
  {
   "cell_type": "markdown",
   "metadata": {},
   "source": [
    "\n",
    "\n",
    "\n",
    "## Agglomeration Analysis\n",
    "\n"
   ]
  },
  {
   "cell_type": "code",
   "execution_count": null,
   "metadata": {},
   "outputs": [],
   "source": [
    "def detect_cells(image):\n",
    "    \n",
    "    binar = binarization(image)\n",
    "\n",
    "    dist_map = sci.ndimage.distance_transform_edt(binar)\n",
    "    local_max = skifeature.peak_local_max(dist_map, indices=False, min_distance=25,\n",
    "                                       labels=binar)\n",
    "\n",
    "    # perform a connected component analysis on the local peaks,\n",
    "    # using 8-connectivity, then apply the Watershed algorithm\n",
    "    markers = sci.ndimage.label(local_max, structure=np.ones((3, 3)))[0]\n",
    "    labels = skimorph.watershed(-dist_map, markers, mask=binar)\n",
    "      \n",
    "    return filter_labels(labels)\n",
    "\n",
    "def compute_rag(labels, weighted=False):\n",
    "      \n",
    "    rag = skigraph.RAG(labels, connectivity=2)\n",
    "    rag.remove_node(0)\n",
    "    rag.nodes\n",
    "    \n",
    "    if weighted:\n",
    "        inters_map, info = intersection_map(labels)\n",
    "        for u,v in rag.edges:\n",
    "         rag.edges[u,v]['weight'] = info[u,v] #region intersection as (u,v) edge's weight\n",
    "    \n",
    "    for node,region in zip(rag.nodes, regionprops(labels)):\n",
    "        rag.nodes[node]['label'] = region.label\n",
    "        rag.nodes[node]['centroid'] = region.centroid\n",
    "        rag.nodes[node]['area'] = region.area\n",
    "        \n",
    "    return rag\n",
    "\n",
    "def agglomeration(img):\n",
    "    labels = detect_cells(img)\n",
    "    rag = compute_rag(labels)\n",
    "    \n",
    "    return len(rag.edges)/(2*len(rag.nodes))"
   ]
  },
  {
   "cell_type": "markdown",
   "metadata": {},
   "source": [
    "#### Preprocessing: cell detection and rag conversion"
   ]
  },
  {
   "cell_type": "code",
   "execution_count": null,
   "metadata": {},
   "outputs": [],
   "source": [
    "def draw_rag(rag, ax):\n",
    "    rad = 12\n",
    "    ## draw edges\n",
    "    \n",
    "    if len(rag.edges) != 0:\n",
    "        for u,v in rag.edges():\n",
    "\n",
    "            xu, yu = map(int, rag.node[u]['centroid'])\n",
    "            xv, yv = map(int, rag.node[v]['centroid'])   \n",
    "            ax.add_artist(mpl.patches.ConnectionPatch((yu,xu),(yv,xv),'data','data'))\n",
    "\n",
    "    #draw nodes\n",
    "    for n in rag.nodes():\n",
    "        x, y = map(int, rag.node[n]['centroid'])\n",
    "        ax.add_artist(mpl.patches.Circle((y,x),rad))\n",
    "        ax.text(y+5,x+35,rag.node[n]['label'])\n"
   ]
  },
  {
   "cell_type": "markdown",
   "metadata": {},
   "source": [
    "##### visualize preprocessing steps"
   ]
  },
  {
   "cell_type": "code",
   "execution_count": null,
   "metadata": {},
   "outputs": [],
   "source": [
    "img = sm_images[sm_img_index]\n",
    "labels = detect_cells(img)\n",
    "rag = compute_rag(labels)\n",
    "\n",
    "images = [img, \n",
    "          ski.color.label2rgb(labels, bg_label=0), \n",
    "          np.ones(sm_img.shape)]\n",
    "\n",
    "\n",
    "fig, axes = plt.subplots(ncols=3, figsize=(18, 10))\n",
    "titles = ['Full Color', 'Regioni', 'RAG']\n",
    "\n",
    "for region in regionprops(labels):\n",
    "    x,y = region.centroid\n",
    "    axes[1].text(y, x, str(\"{}\".format(region.label)), \n",
    "                    fontdict={'size':8}, color='#006060',\n",
    "                    bbox=dict(facecolor='white', alpha=0.55,linewidth=None))\n",
    "\n",
    "draw_rag(rag, axes[2])  \n",
    "for img, title, ax in zip(images, titles, axes):\n",
    "    ax.imshow(img)\n",
    "    ax.set_axis_off()\n",
    "    ax.set_title(title)\n",
    "axes[2].set_axis_on()  \n",
    "axes[2].set_xticks([])\n",
    "axes[2].set_yticks([])"
   ]
  },
  {
   "cell_type": "code",
   "execution_count": null,
   "metadata": {},
   "outputs": [],
   "source": [
    "img = sm_images[sm_indeces[-2]]\n",
    "labels = detect_cells(ski.img_as_ubyte(img))\n",
    "rag = compute_rag(labels)\n",
    "\n",
    "images = [img, \n",
    "          ski.color.label2rgb(labels, bg_label=0), \n",
    "          np.ones(sm_img.shape)]\n",
    "\n",
    "\n",
    "fig, axes = plt.subplots(ncols=3, figsize=(18, 10))\n",
    "titles = ['Full Color', 'Regioni', 'RAG']\n",
    "\n",
    "for region in regionprops(labels):\n",
    "    x,y = region.centroid\n",
    "    axes[1].text(y, x, str(\"{}\".format(region.label)), \n",
    "                    fontdict={'size':8}, color='#006060',\n",
    "                    bbox=dict(facecolor='white', alpha=0.55,linewidth=None))\n",
    "\n",
    "draw_rag(rag, axes[2])  \n",
    "for img, title, ax in zip(images, titles, axes):\n",
    "    ax.imshow(img)\n",
    "    ax.set_axis_off()\n",
    "    ax.set_title(title)\n",
    "axes[2].set_axis_on()  \n",
    "axes[2].set_xticks([])\n",
    "axes[2].set_yticks([])"
   ]
  },
  {
   "cell_type": "markdown",
   "metadata": {},
   "source": [
    "#### Compute agglomerations for dataset"
   ]
  },
  {
   "cell_type": "code",
   "execution_count": null,
   "metadata": {},
   "outputs": [],
   "source": [
    "%%time\n",
    "if not LOAD_PREVIOUS_RESULTS:\n",
    "    sm_agglomerations = np.asarray([agglomeration(img) for img in sm_images])\n",
    "    cyt_agglomerations = np.asarray([agglomeration(img) for img in cyt_images])"
   ]
  },
  {
   "cell_type": "code",
   "execution_count": null,
   "metadata": {},
   "outputs": [],
   "source": [
    "if LOAD_PREVIOUS_RESULTS:\n",
    "    agglomeration_df = pd.read_csv(\"agglomeration_dataframe.csv\")\n",
    "else:\n",
    "    agglomeration_df = pd.DataFrame({'sm':sm_agglomerations,\n",
    "                                     'cyt':cyt_agglomerations})\n",
    "    agglomeration_df.to_csv(\"agglomeration_dataframe.csv\", index=False) "
   ]
  },
  {
   "cell_type": "markdown",
   "metadata": {},
   "source": [
    "#### visualize rapresentative examples"
   ]
  },
  {
   "cell_type": "code",
   "execution_count": null,
   "metadata": {},
   "outputs": [],
   "source": [
    "sm_aggl_ndarray = agglomeration_df['sm'].to_numpy()\n",
    "sm_indeces = np.argsort(sm_aggl_ndarray)[quantiles_indeces(sm_aggl_ndarray)]\n",
    "sm_quantiles = sm_aggl_ndarray[sm_indeces]\n",
    "\n",
    "cyt_aggl_ndarray = agglomeration_df['cyt'].to_numpy()\n",
    "cyt_indeces = np.argsort(cyt_aggl_ndarray)[quantiles_indeces(cyt_aggl_ndarray)] \n",
    "cyt_quantiles = cyt_aggl_ndarray[cyt_indeces]\n",
    "\n",
    "\n",
    "titles= ['Min', 'Q1', 'Q2', 'Q3', 'Max']\n",
    "fig, axes = plt.subplots(nrows=2, ncols=5, figsize=(16,5))\n",
    "\n",
    "for index, q, title, ax in zip(sm_indeces, sm_quantiles, titles, axes[0]):\n",
    "    ax.imshow(sm_images[index])\n",
    "    ax.set_title(\"{}:  $\\\\alpha={:.4f}$\".format(title, q))\n",
    "    ax.set_axis_off()\n",
    "\n",
    "for index, q, title, ax in zip(cyt_indeces, cyt_quantiles, titles,  axes[1]):\n",
    "    ax.imshow(cyt_images[index])\n",
    "    ax.set_title(\"{}:  $\\\\alpha={:.4f}$\".format(title, q))\n",
    "    ax.set_axis_off()\n",
    "\n",
    "\n",
    "fig.tight_layout()\n",
    "fig.savefig(str(generated_dir/\"agglomeration_examples.pdf\"), bbox_inches='tight', transparent=True)"
   ]
  },
  {
   "cell_type": "markdown",
   "metadata": {},
   "source": [
    "#### Distribution Analysis"
   ]
  },
  {
   "cell_type": "code",
   "execution_count": null,
   "metadata": {},
   "outputs": [],
   "source": [
    "fig, ax = plt.subplots(nrows=2, ncols=1,figsize=(8,6))\n",
    "\n",
    "# Smear Histogram\n",
    "ax[0].hist(agglomeration_df[\"sm\"], bins=50,\n",
    "           color= sm_color, edgecolor=\"white\", label=\"SM\")\n",
    "\n",
    "ax[0].set_title(\"Distribuzione agglomerazione (SM)\")\n",
    "#ax[0].set_xticks(np.arange(0,110,10))\n",
    "ax[0].set_xlabel(\"Agglomerazione $\\\\alpha$\")\n",
    "ax[0].set_ylabel(\"Campi\")\n",
    "ax[0].yaxis.set_major_locator(mpl.ticker.MaxNLocator(integer=True))\n",
    "\n",
    "\n",
    "\n",
    "## Cytospin Histogram\n",
    "ax[1].hist(agglomeration_df[\"cyt\"], bins=50, \n",
    "           color=cyt_color, edgecolor=\"white\", label=\"CYT\")\n",
    "ax[1].set_title(\"Distribuzione agglomerazione (CYT)\")\n",
    "#ax[1].set_xticks(np.arange(0,110,10))\n",
    "ax[1].set_xlabel(\"Agglomerazione $\\\\alpha$\")\n",
    "ax[1].set_ylabel(\"Campi\")\n",
    "ax[1].yaxis.set_major_locator(mpl.ticker.MaxNLocator(integer=True))\n",
    "\n",
    "fig.tight_layout()\n",
    "fig.savefig(str(generated_dir/\"agglomeration_histograms.pdf\"), bbox_inches='tight', transparent=True)"
   ]
  },
  {
   "cell_type": "code",
   "execution_count": null,
   "metadata": {},
   "outputs": [],
   "source": [
    "fig, ax = plt.subplots(nrows=1, ncols=1, figsize=(8,6))\n",
    "sns.boxplot(data=agglomeration_df[['sm','cyt']], width=0.5, fliersize=1.5, linewidth=1.25, saturation=1.0, palette=[sm_color,cyt_color], ax=ax)\n",
    "ax.set_ylabel('Agglomearazione $\\\\alpha$')\n",
    "ax.set_xlabel('Tecnica di processamento')\n",
    "ax.set_xticklabels(['SM','CYT'])\n",
    "ax.set_ylim([-0.05,1])\n",
    "ax.set_yticks(np.arange(0,1.1,0.1))\n",
    "\n",
    "fig.savefig(str(generated_dir / \"agglomeration_boxplot.pdf\"), bbox_inches='tight', transparent=True)"
   ]
  },
  {
   "cell_type": "markdown",
   "metadata": {},
   "source": [
    "#### summary statistics"
   ]
  },
  {
   "cell_type": "code",
   "execution_count": null,
   "metadata": {},
   "outputs": [],
   "source": [
    "agglomeration_stats = agglomeration_df[['sm','cyt']].describe()\n",
    "\n",
    "#remove useless statistics\n",
    "agglomeration_stats.drop('mean', inplace=True)\n",
    "agglomeration_stats.drop('std', inplace=True)\n",
    "\n",
    "# add new statics\n",
    "mad_scale_factors = 1 / np.quantile(agglomeration_df[['sm','cyt']], q=0.75, axis=0) ## https://www.r-bloggers.com/absolute-deviation-around-the-median/\n",
    "mad = pd.Series(stats.median_absolute_deviation(agglomeration_df[['sm','cyt']],scale=mad_scale_factors),  name='MAD', index=['sm','cyt'])\n",
    "agglomeration_stats = agglomeration_stats.append(mad)\n",
    "\n",
    "iqr = pd.Series(stats.iqr(agglomeration_df[['sm','cyt']].to_numpy(), axis=0), name='IQR', index=['sm','cyt'])\n",
    "agglomeration_stats = agglomeration_stats.append(iqr)\n",
    "\n",
    "# rename rows index and columns \n",
    "agglomeration_stats = agglomeration_stats.rename(index={'count':'# campi',\n",
    "                             '25%':'Q1', \n",
    "                             '50%':'Median', \n",
    "                             '75%':'Q3'},\n",
    "                     columns={'sm':'Smear',\n",
    "                              'cyt':'Cytospin'})"
   ]
  },
  {
   "cell_type": "markdown",
   "metadata": {},
   "source": [
    "##### Export density and agglomeration summary tables as single table "
   ]
  },
  {
   "cell_type": "code",
   "execution_count": null,
   "metadata": {},
   "outputs": [],
   "source": [
    "iterables = [['Densità', 'Agglomerazione'], ['SM', 'CYT']]\n",
    "r=pd.MultiIndex.from_product(iterables)\n",
    "summary_df = pd.concat([density_stats.T,agglomeration_stats.T])\n",
    "summary_df.index = r\n",
    "summary_df.T"
   ]
  },
  {
   "cell_type": "code",
   "execution_count": null,
   "metadata": {},
   "outputs": [],
   "source": [
    "def int_formatter(s):\n",
    "    return '%d' % s\n",
    "\n",
    "summary_df.T.to_latex(generated_dir/\"summary_stats_table.tex\", multicolumn=True, multirow=True, formatters={'# campi':int_formatter}, float_format='%1.4f')"
   ]
  },
  {
   "cell_type": "code",
   "execution_count": null,
   "metadata": {},
   "outputs": [],
   "source": [
    "report_doc.toTex(\"generated\", \"report_variables.tex\")"
   ]
  }
 ],
 "metadata": {
  "kernelspec": {
   "display_name": "Python 3",
   "language": "python",
   "name": "python3"
  },
  "language_info": {
   "codemirror_mode": {
    "name": "ipython",
    "version": 3
   },
   "file_extension": ".py",
   "mimetype": "text/x-python",
   "name": "python",
   "nbconvert_exporter": "python",
   "pygments_lexer": "ipython3",
   "version": "3.6.7"
  }
 },
 "nbformat": 4,
 "nbformat_minor": 2
}
