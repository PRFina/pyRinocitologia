{
 "cells": [
  {
   "cell_type": "markdown",
   "metadata": {},
   "source": [
    "# System Evaluation"
   ]
  },
  {
   "cell_type": "code",
   "execution_count": 18,
   "metadata": {},
   "outputs": [],
   "source": [
    "from pathlib2 import Path\n",
    "import numpy as np\n",
    "from sklearn.metrics import confusion_matrix\n",
    "import pandas as pd\n",
    "from collections import OrderedDict\n",
    "\n",
    "#Setup The Environment\n",
    "generated_dir = Path(\"generated\")"
   ]
  },
  {
   "cell_type": "markdown",
   "metadata": {},
   "source": [
    "## Classifier Evaluation"
   ]
  },
  {
   "cell_type": "code",
   "execution_count": 23,
   "metadata": {},
   "outputs": [],
   "source": [
    "cyt_cells_dir = Path(\"~/Desktop/UNI/TESI/Rinocitologia-Dataset/PRECLASSIFIED_LATROFA\").expanduser()\n",
    "labels_mapping =  OrderedDict({'epiteliali':0,\n",
    "                  'neutrofili':1,\n",
    "                  'eosinofili':2,\n",
    "                  'mastcellule':3,\n",
    "                  'linfociti':4,\n",
    "                  'mucipare':5,\n",
    "                  'altro':6})"
   ]
  },
  {
   "cell_type": "code",
   "execution_count": 21,
   "metadata": {},
   "outputs": [],
   "source": [
    "def load_labels(path, mapping=None):\n",
    "    if not mapping:\n",
    "       raise ValueError(\"mapping argument can't be None! Assign a dictionary of pairs: {'label name': label value}\")\n",
    "        \n",
    "    files = []\n",
    "    labels = []\n",
    "    cells_dir = Path(path)\n",
    "    \n",
    "    for dir_class in cells_dir.glob(\"*\"):\n",
    "        label = mapping[dir_class.name] # map directory name to label integer\n",
    "        for file in dir_class.glob(\"*.png\"):\n",
    "            files.append(file.name)\n",
    "            labels.append(label)\n",
    "   \n",
    "    return np.array(files), np.array(labels), mapping.keys()\n",
    "    "
   ]
  },
  {
   "cell_type": "code",
   "execution_count": 24,
   "metadata": {},
   "outputs": [],
   "source": [
    "files, true_labels, names = load_labels(cyt_cells_dir, labels_mapping)\n",
    "\n",
    "predicted_labels = np.random.randint(0,7,252)"
   ]
  },
  {
   "cell_type": "code",
   "execution_count": 25,
   "metadata": {},
   "outputs": [],
   "source": [
    "cm = confusion_matrix(true_labels,true_labels)"
   ]
  },
  {
   "cell_type": "code",
   "execution_count": 12,
   "metadata": {},
   "outputs": [
    {
     "data": {
      "text/plain": [
       "array([[ 39,   0,   0,   0,   0,   0,   0],\n",
       "       [  0, 138,   0,   0,   0,   0,   0],\n",
       "       [  0,   0,   9,   0,   0,   0,   0],\n",
       "       [  0,   0,   0,   3,   0,   0,   0],\n",
       "       [  0,   0,   0,   0,   4,   0,   0],\n",
       "       [  0,   0,   0,   0,   0,  13,   0],\n",
       "       [  0,   0,   0,   0,   0,   0,  46]])"
      ]
     },
     "execution_count": 12,
     "metadata": {},
     "output_type": "execute_result"
    }
   ],
   "source": [
    "cm"
   ]
  },
  {
   "cell_type": "markdown",
   "metadata": {},
   "source": [
    "##### Convert numpy confusion matrix to pandas DataFrame"
   ]
  },
  {
   "cell_type": "code",
   "execution_count": 16,
   "metadata": {},
   "outputs": [
    {
     "data": {
      "text/html": [
       "<div>\n",
       "<style scoped>\n",
       "    .dataframe tbody tr th:only-of-type {\n",
       "        vertical-align: middle;\n",
       "    }\n",
       "\n",
       "    .dataframe tbody tr th {\n",
       "        vertical-align: top;\n",
       "    }\n",
       "\n",
       "    .dataframe thead tr th {\n",
       "        text-align: left;\n",
       "    }\n",
       "</style>\n",
       "<table border=\"1\" class=\"dataframe\">\n",
       "  <thead>\n",
       "    <tr>\n",
       "      <th></th>\n",
       "      <th></th>\n",
       "      <th colspan=\"7\" halign=\"left\">Predetta</th>\n",
       "    </tr>\n",
       "    <tr>\n",
       "      <th></th>\n",
       "      <th></th>\n",
       "      <th>epiteliali</th>\n",
       "      <th>neutrofili</th>\n",
       "      <th>eosinofili</th>\n",
       "      <th>mastcellule</th>\n",
       "      <th>linfociti</th>\n",
       "      <th>mucipare</th>\n",
       "      <th>altro</th>\n",
       "    </tr>\n",
       "  </thead>\n",
       "  <tbody>\n",
       "    <tr>\n",
       "      <th rowspan=\"7\" valign=\"top\">Vera</th>\n",
       "      <th>epiteliali</th>\n",
       "      <td>39</td>\n",
       "      <td>0</td>\n",
       "      <td>0</td>\n",
       "      <td>0</td>\n",
       "      <td>0</td>\n",
       "      <td>0</td>\n",
       "      <td>0</td>\n",
       "    </tr>\n",
       "    <tr>\n",
       "      <th>neutrofili</th>\n",
       "      <td>0</td>\n",
       "      <td>138</td>\n",
       "      <td>0</td>\n",
       "      <td>0</td>\n",
       "      <td>0</td>\n",
       "      <td>0</td>\n",
       "      <td>0</td>\n",
       "    </tr>\n",
       "    <tr>\n",
       "      <th>eosinofili</th>\n",
       "      <td>0</td>\n",
       "      <td>0</td>\n",
       "      <td>9</td>\n",
       "      <td>0</td>\n",
       "      <td>0</td>\n",
       "      <td>0</td>\n",
       "      <td>0</td>\n",
       "    </tr>\n",
       "    <tr>\n",
       "      <th>mastcellule</th>\n",
       "      <td>0</td>\n",
       "      <td>0</td>\n",
       "      <td>0</td>\n",
       "      <td>3</td>\n",
       "      <td>0</td>\n",
       "      <td>0</td>\n",
       "      <td>0</td>\n",
       "    </tr>\n",
       "    <tr>\n",
       "      <th>linfociti</th>\n",
       "      <td>0</td>\n",
       "      <td>0</td>\n",
       "      <td>0</td>\n",
       "      <td>0</td>\n",
       "      <td>4</td>\n",
       "      <td>0</td>\n",
       "      <td>0</td>\n",
       "    </tr>\n",
       "    <tr>\n",
       "      <th>mucipare</th>\n",
       "      <td>0</td>\n",
       "      <td>0</td>\n",
       "      <td>0</td>\n",
       "      <td>0</td>\n",
       "      <td>0</td>\n",
       "      <td>13</td>\n",
       "      <td>0</td>\n",
       "    </tr>\n",
       "    <tr>\n",
       "      <th>altro</th>\n",
       "      <td>0</td>\n",
       "      <td>0</td>\n",
       "      <td>0</td>\n",
       "      <td>0</td>\n",
       "      <td>0</td>\n",
       "      <td>0</td>\n",
       "      <td>46</td>\n",
       "    </tr>\n",
       "  </tbody>\n",
       "</table>\n",
       "</div>"
      ],
      "text/plain": [
       "                   Predetta                                              \\\n",
       "                 epiteliali neutrofili eosinofili mastcellule linfociti   \n",
       "Vera epiteliali          39          0          0           0         0   \n",
       "     neutrofili           0        138          0           0         0   \n",
       "     eosinofili           0          0          9           0         0   \n",
       "     mastcellule          0          0          0           3         0   \n",
       "     linfociti            0          0          0           0         4   \n",
       "     mucipare             0          0          0           0         0   \n",
       "     altro                0          0          0           0         0   \n",
       "\n",
       "                                 \n",
       "                 mucipare altro  \n",
       "Vera epiteliali         0     0  \n",
       "     neutrofili         0     0  \n",
       "     eosinofili         0     0  \n",
       "     mastcellule        0     0  \n",
       "     linfociti          0     0  \n",
       "     mucipare          13     0  \n",
       "     altro              0    46  "
      ]
     },
     "execution_count": 16,
     "metadata": {},
     "output_type": "execute_result"
    }
   ],
   "source": [
    "rows_index = pd.MultiIndex.from_tuples([('Vera',c) for c in names])\n",
    "columns_index = pd.MultiIndex.from_tuples([('Predetta',c) for c in names])\n",
    "cmf = pd.DataFrame(cm, index = rows_index, columns = columns_index)\n",
    "cmf"
   ]
  },
  {
   "cell_type": "code",
   "execution_count": 17,
   "metadata": {},
   "outputs": [],
   "source": [
    "cmf.to_latex(generated_dir/\"classifier_confusion_matrix.tex\", multirow=True, multicolumn=True,)"
   ]
  }
 ],
 "metadata": {
  "kernelspec": {
   "display_name": "Python 3",
   "language": "python",
   "name": "python3"
  },
  "language_info": {
   "codemirror_mode": {
    "name": "ipython",
    "version": 3
   },
   "file_extension": ".py",
   "mimetype": "text/x-python",
   "name": "python",
   "nbconvert_exporter": "python",
   "pygments_lexer": "ipython3",
   "version": "3.6.7"
  }
 },
 "nbformat": 4,
 "nbformat_minor": 2
}
