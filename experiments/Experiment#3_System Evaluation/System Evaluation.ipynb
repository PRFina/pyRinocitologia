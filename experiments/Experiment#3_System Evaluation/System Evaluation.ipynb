{
 "cells": [
  {
   "cell_type": "markdown",
   "metadata": {},
   "source": [
    "# System Evaluation"
   ]
  },
  {
   "cell_type": "code",
   "execution_count": null,
   "metadata": {},
   "outputs": [],
   "source": [
    "%load_ext autoreload\n",
    "%autoreload 2"
   ]
  },
  {
   "cell_type": "code",
   "execution_count": null,
   "metadata": {},
   "outputs": [],
   "source": [
    "from pathlib2 import Path\n",
    "from collections import OrderedDict\n",
    "import shutil\n",
    "\n",
    "import numpy as np\n",
    "import skimage.io as io\n",
    "from sklearn.metrics import confusion_matrix, precision_recall_fscore_support\n",
    "import pandas as pd\n",
    "\n",
    "from src.core.classifier import Classifier\n",
    "from src.core.data_manager import DataManager\n",
    "from src.core.cell_extractor import Extractor\n",
    "\n",
    "#Setup The Environment\n",
    "generated_dir = Path(\"generated\")\n",
    "\n",
    "EXECUTE_CELL_LABELING = False # set to True if you want to extract cells from fields and label them manually. Usually the first time you run this notebook."
   ]
  },
  {
   "cell_type": "markdown",
   "metadata": {},
   "source": [
    "#### Setup The environment"
   ]
  },
  {
   "cell_type": "code",
   "execution_count": null,
   "metadata": {},
   "outputs": [],
   "source": [
    "labels_mapping =  OrderedDict({'epiteliali':0,\n",
    "                  'neutrofili':1,\n",
    "                  'eosinofili':2,\n",
    "                  'mastcellule':3,\n",
    "                  'linfociti':4,\n",
    "                  'mucipare':5,\n",
    "                  'altro':6})\n",
    "\n",
    "data_manager = DataManager(\"assets\")"
   ]
  },
  {
   "cell_type": "markdown",
   "metadata": {},
   "source": [
    "#### Build directory structure"
   ]
  },
  {
   "cell_type": "code",
   "execution_count": null,
   "metadata": {},
   "outputs": [],
   "source": [
    "if EXECUTE_CELL_LABELING:\n",
    "    if data_manager.assets_path.exists(): # remove previous execution data\n",
    "        shutil.rmtree(data_manager.assets_path)\n",
    "\n",
    "    # Build directory structure\n",
    "    data_manager.assets_path.mkdir()\n",
    "    data_manager.input_path.mkdir()\n",
    "    data_manager.cells_path.mkdir()\n",
    "    data_manager.out_path.mkdir()\n",
    "\n",
    "    for class_dir in data_manager.classes_path:\n",
    "       class_dir.mkdir()\n",
    "    "
   ]
  },
  {
   "cell_type": "markdown",
   "metadata": {},
   "source": [
    "## First pass: automatic extraction and classification"
   ]
  },
  {
   "cell_type": "markdown",
   "metadata": {},
   "source": [
    "### Get fields from database"
   ]
  },
  {
   "cell_type": "markdown",
   "metadata": {},
   "source": [
    "##### Since there's files with the same name in different folder, we reindex the file names and than copy the field images in assets/input directory. This step is essential otherwise duplicates fields won't be extracted"
   ]
  },
  {
   "cell_type": "code",
   "execution_count": null,
   "metadata": {},
   "outputs": [],
   "source": [
    "%%time\n",
    "if EXECUTE_CELL_LABELING:\n",
    "    fields_dir = Path(\"../../Datasets/Fields/Cytospin\")\n",
    "    fields = [field for slides_dir in fields_dir.glob(\"*\") for field in slides_dir.glob(\"*.png\")]\n",
    "\n",
    "    reindexed = [(origin_name, \"img-{:04d}.png\".format(i)) for i, origin_name in enumerate(fields, start=1)] # reindex file\n",
    "    for src, dst_name in reindexed:\n",
    "        shutil.copy(src, data_manager.input_path / dst_name)"
   ]
  },
  {
   "cell_type": "markdown",
   "metadata": {},
   "source": [
    "### Extract Cells from fields"
   ]
  },
  {
   "cell_type": "code",
   "execution_count": null,
   "metadata": {},
   "outputs": [],
   "source": [
    "%%time\n",
    "if EXECUTE_CELL_LABELING:\n",
    "    extractor = Extractor(data_manager)\n",
    "    extractor.batch_process() # read every fields from assets/input and extract cells in assets/cells "
   ]
  },
  {
   "cell_type": "markdown",
   "metadata": {},
   "source": [
    "### Classify cells"
   ]
  },
  {
   "cell_type": "code",
   "execution_count": null,
   "metadata": {},
   "outputs": [],
   "source": [
    "%%time\n",
    "if EXECUTE_CELL_LABELING:\n",
    "    classifier = Classifier(\"config.ini\", data_manager)\n",
    "    classifier.batch_process() # read every cells from assets/cells and move in assets/out/<predicted class> directory "
   ]
  },
  {
   "cell_type": "markdown",
   "metadata": {},
   "source": [
    "## Manual labeling"
   ]
  },
  {
   "cell_type": "code",
   "execution_count": null,
   "metadata": {},
   "outputs": [],
   "source": [
    "labeled_cells_dir_name = \"labeled_cells\"\n",
    "labeled_cells_dir = Path(labeled_cells_dir_name)\n",
    "\n",
    "if EXECUTE_CELL_LABELING:\n",
    "    if labeled_cells_dir.exists():\n",
    "        shutil.rmtree(labeled_cells_dir)\n",
    "\n",
    "    shutil.copytree(data_manager.out_path, labeled_cells_dir)"
   ]
  },
  {
   "cell_type": "markdown",
   "metadata": {},
   "source": [
    "And now the fun part! You must manually labeling the cells (with supervision).\n",
    "When you have your final result you must copy the labeled_cells directory into cells dataset"
   ]
  },
  {
   "cell_type": "markdown",
   "metadata": {},
   "source": [
    "Make pdf with cells presentation grid for labeling revision"
   ]
  },
  {
   "cell_type": "code",
   "execution_count": null,
   "metadata": {},
   "outputs": [],
   "source": [
    "from matplotlib.backends.backend_pdf import PdfPages\n",
    "import matplotlib.pyplot as plt\n",
    "import os \n",
    "\n",
    "images = io.imread_collection(os.path.join(labeled_cells_dir,'eosinofili','*.png')) ## example path\n",
    "\n",
    "nrows = 5\n",
    "ncols = 3\n",
    "gridsize = nrows * ncols\n",
    "npages = int(np.ceil(len(images) / (gridsize)))\n",
    "\n",
    "with PdfPages(generated_dir/'labeling_revision_grid.pdf') as pdf:\n",
    "    for page in range(0, npages):\n",
    "        fig, axes = plt.subplots(nrows=nrows, ncols=ncols, figsize=(8.27,11.69), dpi=100)\n",
    "        low = gridsize * page\n",
    "        high = min(len(images), (low+gridsize))\n",
    "       \n",
    "        for img, file_name, ax in zip(images[low:high], images.files[low:high], axes.ravel()):\n",
    "            ax.imshow(img)\n",
    "            ax.set_title(\"{}: _________\".format(Path(file_name).stem), fontdict={'size':10})\n",
    "        \n",
    "        for ax in axes.ravel():\n",
    "            ax.set_axis_off()\n",
    "       \n",
    "        plt.subplots_adjust(left=0.05, right=0.95, top=0.95, bottom=0.05)\n",
    "        pdf.savefig(fig)\n",
    "        plt.close(fig)"
   ]
  },
  {
   "cell_type": "markdown",
   "metadata": {},
   "source": [
    "## Second pass: Classifier Evaluation"
   ]
  },
  {
   "cell_type": "code",
   "execution_count": null,
   "metadata": {},
   "outputs": [],
   "source": [
    "def load_labels(path, mapping=None):\n",
    "    if not mapping:\n",
    "       raise ValueError(\"mapping argument can't be None! Assign a dictionary of pairs: {'label name': label value}\")\n",
    "        \n",
    "    labels = []\n",
    "    \n",
    "    for dir_class in path.glob(\"*\"):\n",
    "        label = mapping[dir_class.name] # map directory name to label integer\n",
    "        for file in dir_class.glob(\"*.png\"):\n",
    "            labels.append((file.name,label))\n",
    " \n",
    "    return np.array(labels)\n",
    "    "
   ]
  },
  {
   "cell_type": "markdown",
   "metadata": {},
   "source": [
    "### Dataset cell distribution"
   ]
  },
  {
   "cell_type": "code",
   "execution_count": null,
   "metadata": {},
   "outputs": [],
   "source": [
    "classes = list(labels_mapping.keys())\n",
    "number_of_samples = np.asarray([len(list((labeled_cells_dir / dir_class_name).glob(\"*.png\"))) for dir_class_name in classes])\n",
    "percentual = np.true_divide(number_of_samples, number_of_samples.sum()) * 100\n",
    "dataset_stats_df = pd.DataFrame({'Classe':classes, \n",
    "                                 'Numero di campioni':number_of_samples,\n",
    "                                 '%':percentual})\n",
    "                                            \n",
    "dataset_stats_df"
   ]
  },
  {
   "cell_type": "code",
   "execution_count": null,
   "metadata": {},
   "outputs": [],
   "source": [
    "dataset_stats_df.to_latex(str(generated_dir / \"cyt_cells_classes_distribution.tex\"), index=False, float_format='%1.2f')"
   ]
  },
  {
   "cell_type": "markdown",
   "metadata": {},
   "source": [
    "### Load labels and build confusion matrix"
   ]
  },
  {
   "cell_type": "code",
   "execution_count": null,
   "metadata": {},
   "outputs": [],
   "source": [
    "# Load labels\n",
    "true_labels = load_labels(labeled_cells_dir, labels_mapping)\n",
    "predicted_labels = load_labels(data_manager.out_path, labels_mapping)\n",
    "\n",
    "# sort labels by file name (since confusion matrix re)\n",
    "true_labels = true_labels[true_labels[:,0].argsort()]\n",
    "predicted_labels = predicted_labels[predicted_labels[:,0].argsort()]\n",
    "\n",
    "cm = confusion_matrix(true_labels[:,1],predicted_labels[:,1])"
   ]
  },
  {
   "cell_type": "markdown",
   "metadata": {},
   "source": [
    "##### Convert numpy confusion matrix to pandas DataFrame"
   ]
  },
  {
   "cell_type": "code",
   "execution_count": null,
   "metadata": {},
   "outputs": [],
   "source": [
    "del(classes[3])\n",
    "rows_index = pd.MultiIndex.from_tuples([('Vera',c) for c in classes])\n",
    "columns_index = pd.MultiIndex.from_tuples([('Predetta',c) for c in classes])\n",
    "cmf = pd.DataFrame(cm, index = rows_index, columns = columns_index)\n",
    "cmf"
   ]
  },
  {
   "cell_type": "code",
   "execution_count": null,
   "metadata": {},
   "outputs": [],
   "source": [
    "cmf.to_latex(generated_dir/\"classifier_confusion_matrix.tex\", multirow=True, multicolumn=True)"
   ]
  },
  {
   "cell_type": "markdown",
   "metadata": {},
   "source": [
    "### Evaluation Metrics"
   ]
  },
  {
   "cell_type": "code",
   "execution_count": null,
   "metadata": {},
   "outputs": [],
   "source": [
    "precision, recall, f1, support = precision_recall_fscore_support(true_labels[:,1],predicted_labels[:,1])\n",
    "\n",
    "metrics_df = pd.DataFrame({'Precision': precision,\n",
    "                           'Recall': recall,\n",
    "                           'F1': f1,\n",
    "                           'Support': support},\n",
    "                         index = classes)\n",
    "metrics_df.index.name = 'Classe'\n",
    "metrics_df"
   ]
  },
  {
   "cell_type": "code",
   "execution_count": null,
   "metadata": {},
   "outputs": [],
   "source": [
    "metrics_df.to_latex(generated_dir/\"classifier_metrics.tex\", multirow=True, multicolumn=True, float_format='%1.2f')"
   ]
  },
  {
   "cell_type": "markdown",
   "metadata": {},
   "source": [
    "## Extraction evaluation"
   ]
  }
 ],
 "metadata": {
  "kernelspec": {
   "display_name": "Python 3",
   "language": "python",
   "name": "python3"
  },
  "language_info": {
   "codemirror_mode": {
    "name": "ipython",
    "version": 3
   },
   "file_extension": ".py",
   "mimetype": "text/x-python",
   "name": "python",
   "nbconvert_exporter": "python",
   "pygments_lexer": "ipython3",
   "version": "3.6.7"
  }
 },
 "nbformat": 4,
 "nbformat_minor": 2
}
