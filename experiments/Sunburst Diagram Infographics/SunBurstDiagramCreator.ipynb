{
 "cells": [
  {
   "cell_type": "markdown",
   "metadata": {},
   "source": [
    "##### Environment setup "
   ]
  },
  {
   "cell_type": "code",
   "execution_count": 1,
   "metadata": {},
   "outputs": [
    {
     "data": {
      "text/html": [
       "        <script type=\"text/javascript\">\n",
       "        window.PlotlyConfig = {MathJaxConfig: 'local'};\n",
       "        if (window.MathJax) {MathJax.Hub.Config({SVG: {font: \"STIX-Web\"}});}\n",
       "        if (typeof require !== 'undefined') {\n",
       "        require.undef(\"plotly\");\n",
       "        requirejs.config({\n",
       "            paths: {\n",
       "                'plotly': ['https://cdn.plot.ly/plotly-latest.min']\n",
       "            }\n",
       "        });\n",
       "        require(['plotly'], function(Plotly) {\n",
       "            window._Plotly = Plotly;\n",
       "        });\n",
       "        }\n",
       "        </script>\n",
       "        "
      ]
     },
     "metadata": {},
     "output_type": "display_data"
    }
   ],
   "source": [
    "import numpy as np\n",
    "import plotly as py\n",
    "import plotly.graph_objs as go\n",
    "from pathlib import Path\n",
    "from collections import OrderedDict\n",
    "py.offline.init_notebook_mode(connected=True)\n",
    "\n",
    "sm_color = \"#3498db\"\n",
    "cyt_color = \"#f39c12\""
   ]
  },
  {
   "cell_type": "code",
   "execution_count": 2,
   "metadata": {},
   "outputs": [],
   "source": [
    "fields_dataset_dir = Path(\"../../Datasets/Fields\")\n",
    "cells_dataset_dir = Path(\"../../Datasets/Cells\")"
   ]
  },
  {
   "cell_type": "code",
   "execution_count": 3,
   "metadata": {},
   "outputs": [],
   "source": [
    "generated_path = Path(\"generated\")\n",
    "if not generated_path.exists():\n",
    "    generated_path.mkdir()"
   ]
  },
  {
   "cell_type": "markdown",
   "metadata": {},
   "source": [
    "### Collect info for fields dataset"
   ]
  },
  {
   "cell_type": "code",
   "execution_count": 4,
   "metadata": {},
   "outputs": [],
   "source": [
    "info=[]\n",
    "top_lvl = list(fields_dataset_dir.glob(\"*\"))\n",
    "total = 0\n",
    "for top_lvl_dir in top_lvl:\n",
    "    top_lvl_dir_sum = 0\n",
    "    \n",
    "    for i, slide_dir in enumerate(top_lvl_dir.glob(\"*\"), start=1):\n",
    "        nfield_images = len(list(slide_dir.glob(\"*.png\")))\n",
    "        info.append((top_lvl_dir.name[0] + str(i), top_lvl_dir.name,  nfield_images))\n",
    "        top_lvl_dir_sum += nfield_images\n",
    "    \n",
    "    info.append((top_lvl_dir.name, fields_dataset_dir.name, top_lvl_dir_sum))\n",
    "    total += top_lvl_dir_sum\n",
    "info.append((fields_dataset_dir.name, \"\", total))"
   ]
  },
  {
   "cell_type": "markdown",
   "metadata": {},
   "source": [
    "##### Define function to get labels from ids"
   ]
  },
  {
   "cell_type": "code",
   "execution_count": 5,
   "metadata": {},
   "outputs": [],
   "source": [
    "info=np.asarray(info)\n",
    "get_label = np.vectorize(lambda x: x.split(\"_\")[-1].capitalize())"
   ]
  },
  {
   "cell_type": "code",
   "execution_count": 6,
   "metadata": {},
   "outputs": [
    {
     "data": {
      "text/plain": [
       "array([['S1', 'Smear', '50'],\n",
       "       ['S2', 'Smear', '47'],\n",
       "       ['S3', 'Smear', '46'],\n",
       "       ['S4', 'Smear', '50'],\n",
       "       ['S5', 'Smear', '49'],\n",
       "       ['S6', 'Smear', '38'],\n",
       "       ['S7', 'Smear', '54'],\n",
       "       ['S8', 'Smear', '23'],\n",
       "       ['S9', 'Smear', '50'],\n",
       "       ['S10', 'Smear', '50'],\n",
       "       ['S11', 'Smear', '51'],\n",
       "       ['S12', 'Smear', '50'],\n",
       "       ['S13', 'Smear', '27'],\n",
       "       ['Smear', 'Fields', '585'],\n",
       "       ['C1', 'Cytospin', '87'],\n",
       "       ['C2', 'Cytospin', '40'],\n",
       "       ['C3', 'Cytospin', '52'],\n",
       "       ['C4', 'Cytospin', '80'],\n",
       "       ['C5', 'Cytospin', '85'],\n",
       "       ['C6', 'Cytospin', '70'],\n",
       "       ['C7', 'Cytospin', '40'],\n",
       "       ['Cytospin', 'Fields', '454'],\n",
       "       ['Fields', '', '1039']], dtype='<U8')"
      ]
     },
     "execution_count": 6,
     "metadata": {},
     "output_type": "execute_result"
    }
   ],
   "source": [
    "info"
   ]
  },
  {
   "cell_type": "markdown",
   "metadata": {},
   "source": [
    "### Plot fields sunburst"
   ]
  },
  {
   "cell_type": "code",
   "execution_count": 7,
   "metadata": {},
   "outputs": [
    {
     "data": {
      "application/vnd.plotly.v1+json": {
       "config": {
        "linkText": "Export to plot.ly",
        "plotlyServerURL": "https://plot.ly",
        "responsive": true,
        "showLink": false
       },
       "data": [
        {
         "branchvalues": "total",
         "ids": [
          "S1",
          "S2",
          "S3",
          "S4",
          "S5",
          "S6",
          "S7",
          "S8",
          "S9",
          "S10",
          "S11",
          "S12",
          "S13",
          "Smear",
          "C1",
          "C2",
          "C3",
          "C4",
          "C5",
          "C6",
          "C7",
          "Cytospin",
          "Fields"
         ],
         "insidetextfont": {
          "color": "#252a2a"
         },
         "labels": [
          "S1",
          "S2",
          "S3",
          "S4",
          "S5",
          "S6",
          "S7",
          "S8",
          "S9",
          "S10",
          "S11",
          "S12",
          "S13",
          "Smear",
          "C1",
          "C2",
          "C3",
          "C4",
          "C5",
          "C6",
          "C7",
          "Cytospin",
          "Fields"
         ],
         "marker": {
          "line": {
           "width": 2
          }
         },
         "outsidetextfont": {
          "color": "#377eb8",
          "size": 20
         },
         "parents": [
          "Smear",
          "Smear",
          "Smear",
          "Smear",
          "Smear",
          "Smear",
          "Smear",
          "Smear",
          "Smear",
          "Smear",
          "Smear",
          "Smear",
          "Smear",
          "Fields",
          "Cytospin",
          "Cytospin",
          "Cytospin",
          "Cytospin",
          "Cytospin",
          "Cytospin",
          "Cytospin",
          "Fields",
          ""
         ],
         "textinfo": "value+label",
         "type": "sunburst",
         "uid": "795d6b76-5668-464b-8b54-2bc25ed6542b",
         "values": [
          "50",
          "47",
          "46",
          "50",
          "49",
          "38",
          "54",
          "23",
          "50",
          "50",
          "51",
          "50",
          "27",
          "585",
          "87",
          "40",
          "52",
          "80",
          "85",
          "70",
          "40",
          "454",
          "1039"
         ]
        }
       ],
       "layout": {
        "margin": {
         "b": 0,
         "l": 0,
         "r": 0,
         "t": 0
        },
        "sunburstcolorway": [
         "#3498db",
         "#f39c12"
        ]
       }
      },
      "text/html": [
       "<div>\n",
       "        \n",
       "        \n",
       "            <div id=\"3a0f0847-9ee2-40cc-a399-51b5e485a1b6\" class=\"plotly-graph-div\" style=\"height:525px; width:100%;\"></div>\n",
       "            <script type=\"text/javascript\">\n",
       "                require([\"plotly\"], function(Plotly) {\n",
       "                    window.PLOTLYENV=window.PLOTLYENV || {};\n",
       "                    window.PLOTLYENV.BASE_URL='https://plot.ly';\n",
       "                    \n",
       "                if (document.getElementById(\"3a0f0847-9ee2-40cc-a399-51b5e485a1b6\")) {\n",
       "                    Plotly.newPlot(\n",
       "                        '3a0f0847-9ee2-40cc-a399-51b5e485a1b6',\n",
       "                        [{\"branchvalues\": \"total\", \"ids\": [\"S1\", \"S2\", \"S3\", \"S4\", \"S5\", \"S6\", \"S7\", \"S8\", \"S9\", \"S10\", \"S11\", \"S12\", \"S13\", \"Smear\", \"C1\", \"C2\", \"C3\", \"C4\", \"C5\", \"C6\", \"C7\", \"Cytospin\", \"Fields\"], \"insidetextfont\": {\"color\": \"#252a2a\"}, \"labels\": [\"S1\", \"S2\", \"S3\", \"S4\", \"S5\", \"S6\", \"S7\", \"S8\", \"S9\", \"S10\", \"S11\", \"S12\", \"S13\", \"Smear\", \"C1\", \"C2\", \"C3\", \"C4\", \"C5\", \"C6\", \"C7\", \"Cytospin\", \"Fields\"], \"marker\": {\"line\": {\"width\": 2}}, \"outsidetextfont\": {\"color\": \"#377eb8\", \"size\": 20}, \"parents\": [\"Smear\", \"Smear\", \"Smear\", \"Smear\", \"Smear\", \"Smear\", \"Smear\", \"Smear\", \"Smear\", \"Smear\", \"Smear\", \"Smear\", \"Smear\", \"Fields\", \"Cytospin\", \"Cytospin\", \"Cytospin\", \"Cytospin\", \"Cytospin\", \"Cytospin\", \"Cytospin\", \"Fields\", \"\"], \"textinfo\": \"value+label\", \"type\": \"sunburst\", \"uid\": \"e1d38378-3034-4ede-8e88-981ad1f81668\", \"values\": [\"50\", \"47\", \"46\", \"50\", \"49\", \"38\", \"54\", \"23\", \"50\", \"50\", \"51\", \"50\", \"27\", \"585\", \"87\", \"40\", \"52\", \"80\", \"85\", \"70\", \"40\", \"454\", \"1039\"]}],\n",
       "                        {\"margin\": {\"b\": 0, \"l\": 0, \"r\": 0, \"t\": 0}, \"sunburstcolorway\": [\"#3498db\", \"#f39c12\"]},\n",
       "                        {\"showLink\": false, \"linkText\": \"Export to plot.ly\", \"plotlyServerURL\": \"https://plot.ly\", \"responsive\": true}\n",
       "                    ).then(function(){\n",
       "                            \n",
       "var gd = document.getElementById('3a0f0847-9ee2-40cc-a399-51b5e485a1b6');\n",
       "var x = new MutationObserver(function (mutations, observer) {{\n",
       "        var display = window.getComputedStyle(gd).display;\n",
       "        if (!display || display === 'none') {{\n",
       "            console.log([gd, 'removed!']);\n",
       "            Plotly.purge(gd);\n",
       "            observer.disconnect();\n",
       "        }}\n",
       "}});\n",
       "\n",
       "// Listen for the removal of the full notebook cells\n",
       "var notebookContainer = gd.closest('#notebook-container');\n",
       "if (notebookContainer) {{\n",
       "    x.observe(notebookContainer, {childList: true});\n",
       "}}\n",
       "\n",
       "// Listen for the clearing of the current output cell\n",
       "var outputEl = gd.closest('.output');\n",
       "if (outputEl) {{\n",
       "    x.observe(outputEl, {childList: true});\n",
       "}}\n",
       "\n",
       "                        })\n",
       "                };\n",
       "                });\n",
       "            </script>\n",
       "        </div>"
      ]
     },
     "metadata": {},
     "output_type": "display_data"
    }
   ],
   "source": [
    "trace = go.Sunburst(\n",
    "    ids=info[:,0],\n",
    "    labels=get_label(info[:,0]),\n",
    "    parents=info[:,1],\n",
    "    values=info[:,2],\n",
    "    outsidetextfont = {\"size\": 20, \"color\": \"#377eb8\"},\n",
    "    branchvalues=\"total\",\n",
    "    marker = {\"line\": {\"width\": 2}},\n",
    "    textinfo=\"value+label\",\n",
    "    insidetextfont={'color':'#252a2a'}\n",
    ")\n",
    "\n",
    "layout = go.Layout(\n",
    "    margin = go.layout.Margin(t=0, l=0, r=0, b=0),\n",
    "    sunburstcolorway=[sm_color, cyt_color]\n",
    ")\n",
    "fig = go.Figure([trace], layout)\n",
    "py.offline.iplot(fig, filename='fields_sunburst')"
   ]
  },
  {
   "cell_type": "code",
   "execution_count": 8,
   "metadata": {},
   "outputs": [],
   "source": [
    "py.io.write_image(fig, str(generated_path / \"fields_dataset_sunburst.pdf\"))"
   ]
  },
  {
   "cell_type": "markdown",
   "metadata": {},
   "source": [
    "### Collect info for cells dataset"
   ]
  },
  {
   "cell_type": "code",
   "execution_count": 9,
   "metadata": {},
   "outputs": [],
   "source": [
    "info=[]\n",
    "top_lvl = list(cells_dataset_dir.glob(\"*\"))\n",
    "total = 0\n",
    "for top_lvl_dir in top_lvl:\n",
    "    top_lvl_dir_sum = 0\n",
    "    \n",
    "    for i, slide_dir in enumerate(top_lvl_dir.glob(\"*\"), start=1):\n",
    "        nfield_images = len(list(slide_dir.glob(\"*.png\")))\n",
    "        info.append((slide_dir.name + \" ({})\".format(top_lvl_dir.name[0]), top_lvl_dir.name,  nfield_images))\n",
    "        top_lvl_dir_sum += nfield_images\n",
    "    \n",
    "    info.append((top_lvl_dir.name, cells_dataset_dir.name, top_lvl_dir_sum))\n",
    "    total += top_lvl_dir_sum\n",
    "info.append((cells_dataset_dir.name, \"\", total))"
   ]
  },
  {
   "cell_type": "code",
   "execution_count": 10,
   "metadata": {},
   "outputs": [
    {
     "data": {
      "text/plain": [
       "array([['mucipare (S)', 'Smear', '100'],\n",
       "       ['mastcellule (S)', 'Smear', '9'],\n",
       "       ['altro (S)', 'Smear', '924'],\n",
       "       ['eosinofili (S)', 'Smear', '223'],\n",
       "       ['epiteliali (S)', 'Smear', '1191'],\n",
       "       ['neutrofili (S)', 'Smear', '954'],\n",
       "       ['linfociti (S)', 'Smear', '19'],\n",
       "       ['Smear', 'Cells', '3420'],\n",
       "       ['mucipare (C)', 'Cytospin', '13'],\n",
       "       ['mastcellule (C)', 'Cytospin', '3'],\n",
       "       ['altro (C)', 'Cytospin', '46'],\n",
       "       ['eosinofili (C)', 'Cytospin', '9'],\n",
       "       ['epiteliali (C)', 'Cytospin', '39'],\n",
       "       ['neutrofili (C)', 'Cytospin', '138'],\n",
       "       ['linfociti (C)', 'Cytospin', '4'],\n",
       "       ['Cytospin', 'Cells', '252'],\n",
       "       ['Cells', '', '3672']], dtype='<U15')"
      ]
     },
     "execution_count": 10,
     "metadata": {},
     "output_type": "execute_result"
    }
   ],
   "source": [
    "info=np.asarray(info)\n",
    "get_label = np.vectorize(lambda x: x.split(\"_\")[-1].capitalize())\n",
    "info"
   ]
  },
  {
   "cell_type": "markdown",
   "metadata": {},
   "source": [
    "### Plot Cells Sunburst"
   ]
  },
  {
   "cell_type": "code",
   "execution_count": 11,
   "metadata": {},
   "outputs": [
    {
     "data": {
      "application/vnd.plotly.v1+json": {
       "config": {
        "linkText": "Export to plot.ly",
        "plotlyServerURL": "https://plot.ly",
        "responsive": true,
        "showLink": false
       },
       "data": [
        {
         "branchvalues": "total",
         "ids": [
          "mucipare (S)",
          "mastcellule (S)",
          "altro (S)",
          "eosinofili (S)",
          "epiteliali (S)",
          "neutrofili (S)",
          "linfociti (S)",
          "Smear",
          "mucipare (C)",
          "mastcellule (C)",
          "altro (C)",
          "eosinofili (C)",
          "epiteliali (C)",
          "neutrofili (C)",
          "linfociti (C)",
          "Cytospin",
          "Cells"
         ],
         "insidetextfont": {
          "color": "#252a2a"
         },
         "labels": [
          "Mucipare (s)",
          "Mastcellule (s)",
          "Altro (s)",
          "Eosinofili (s)",
          "Epiteliali (s)",
          "Neutrofili (s)",
          "Linfociti (s)",
          "Smear",
          "Mucipare (c)",
          "Mastcellule (c)",
          "Altro (c)",
          "Eosinofili (c)",
          "Epiteliali (c)",
          "Neutrofili (c)",
          "Linfociti (c)",
          "Cytospin",
          "Cells"
         ],
         "marker": {
          "line": {
           "width": 2
          }
         },
         "outsidetextfont": {
          "color": "#377eb8",
          "size": 20
         },
         "parents": [
          "Smear",
          "Smear",
          "Smear",
          "Smear",
          "Smear",
          "Smear",
          "Smear",
          "Cells",
          "Cytospin",
          "Cytospin",
          "Cytospin",
          "Cytospin",
          "Cytospin",
          "Cytospin",
          "Cytospin",
          "Cells",
          ""
         ],
         "textinfo": "value+label",
         "type": "sunburst",
         "uid": "80ac8b40-c001-4675-ab87-11ca3fd91e28",
         "values": [
          "100",
          "9",
          "924",
          "223",
          "1191",
          "954",
          "19",
          "3420",
          "13",
          "3",
          "46",
          "9",
          "39",
          "138",
          "4",
          "252",
          "3672"
         ]
        }
       ],
       "layout": {
        "margin": {
         "b": 0,
         "l": 0,
         "r": 0,
         "t": 0
        },
        "sunburstcolorway": [
         "#3498db",
         "#f39c12"
        ]
       }
      },
      "text/html": [
       "<div>\n",
       "        \n",
       "        \n",
       "            <div id=\"011613d6-92d9-41ca-b071-0c9506beb2fd\" class=\"plotly-graph-div\" style=\"height:525px; width:100%;\"></div>\n",
       "            <script type=\"text/javascript\">\n",
       "                require([\"plotly\"], function(Plotly) {\n",
       "                    window.PLOTLYENV=window.PLOTLYENV || {};\n",
       "                    window.PLOTLYENV.BASE_URL='https://plot.ly';\n",
       "                    \n",
       "                if (document.getElementById(\"011613d6-92d9-41ca-b071-0c9506beb2fd\")) {\n",
       "                    Plotly.newPlot(\n",
       "                        '011613d6-92d9-41ca-b071-0c9506beb2fd',\n",
       "                        [{\"branchvalues\": \"total\", \"ids\": [\"mucipare (S)\", \"mastcellule (S)\", \"altro (S)\", \"eosinofili (S)\", \"epiteliali (S)\", \"neutrofili (S)\", \"linfociti (S)\", \"Smear\", \"mucipare (C)\", \"mastcellule (C)\", \"altro (C)\", \"eosinofili (C)\", \"epiteliali (C)\", \"neutrofili (C)\", \"linfociti (C)\", \"Cytospin\", \"Cells\"], \"insidetextfont\": {\"color\": \"#252a2a\"}, \"labels\": [\"Mucipare (s)\", \"Mastcellule (s)\", \"Altro (s)\", \"Eosinofili (s)\", \"Epiteliali (s)\", \"Neutrofili (s)\", \"Linfociti (s)\", \"Smear\", \"Mucipare (c)\", \"Mastcellule (c)\", \"Altro (c)\", \"Eosinofili (c)\", \"Epiteliali (c)\", \"Neutrofili (c)\", \"Linfociti (c)\", \"Cytospin\", \"Cells\"], \"marker\": {\"line\": {\"width\": 2}}, \"outsidetextfont\": {\"color\": \"#377eb8\", \"size\": 20}, \"parents\": [\"Smear\", \"Smear\", \"Smear\", \"Smear\", \"Smear\", \"Smear\", \"Smear\", \"Cells\", \"Cytospin\", \"Cytospin\", \"Cytospin\", \"Cytospin\", \"Cytospin\", \"Cytospin\", \"Cytospin\", \"Cells\", \"\"], \"textinfo\": \"value+label\", \"type\": \"sunburst\", \"uid\": \"106aefe4-7972-4f2c-8cae-acfd9f48dfdd\", \"values\": [\"100\", \"9\", \"924\", \"223\", \"1191\", \"954\", \"19\", \"3420\", \"13\", \"3\", \"46\", \"9\", \"39\", \"138\", \"4\", \"252\", \"3672\"]}],\n",
       "                        {\"margin\": {\"b\": 0, \"l\": 0, \"r\": 0, \"t\": 0}, \"sunburstcolorway\": [\"#3498db\", \"#f39c12\"]},\n",
       "                        {\"showLink\": false, \"linkText\": \"Export to plot.ly\", \"plotlyServerURL\": \"https://plot.ly\", \"responsive\": true}\n",
       "                    ).then(function(){\n",
       "                            \n",
       "var gd = document.getElementById('011613d6-92d9-41ca-b071-0c9506beb2fd');\n",
       "var x = new MutationObserver(function (mutations, observer) {{\n",
       "        var display = window.getComputedStyle(gd).display;\n",
       "        if (!display || display === 'none') {{\n",
       "            console.log([gd, 'removed!']);\n",
       "            Plotly.purge(gd);\n",
       "            observer.disconnect();\n",
       "        }}\n",
       "}});\n",
       "\n",
       "// Listen for the removal of the full notebook cells\n",
       "var notebookContainer = gd.closest('#notebook-container');\n",
       "if (notebookContainer) {{\n",
       "    x.observe(notebookContainer, {childList: true});\n",
       "}}\n",
       "\n",
       "// Listen for the clearing of the current output cell\n",
       "var outputEl = gd.closest('.output');\n",
       "if (outputEl) {{\n",
       "    x.observe(outputEl, {childList: true});\n",
       "}}\n",
       "\n",
       "                        })\n",
       "                };\n",
       "                });\n",
       "            </script>\n",
       "        </div>"
      ]
     },
     "metadata": {},
     "output_type": "display_data"
    }
   ],
   "source": [
    "trace = go.Sunburst(\n",
    "    ids=info[:,0],\n",
    "    labels=get_label(info[:,0]),\n",
    "    parents=info[:,1],\n",
    "    values=info[:,2],\n",
    "    outsidetextfont = {\"size\": 20, \"color\": \"#377eb8\"},\n",
    "    branchvalues=\"total\",\n",
    "    marker = {\"line\": {\"width\": 2}},\n",
    "    textinfo=\"value+label\",\n",
    "    insidetextfont={'color':'#252a2a'}\n",
    ")\n",
    "\n",
    "layout = go.Layout(\n",
    "    margin = go.layout.Margin(t=0, l=0, r=0, b=0),\n",
    "    sunburstcolorway=[sm_color, cyt_color]\n",
    ")\n",
    "fig = go.Figure([trace], layout)\n",
    "py.offline.iplot(fig, filename='cells_sunburst')"
   ]
  },
  {
   "cell_type": "code",
   "execution_count": 12,
   "metadata": {},
   "outputs": [],
   "source": [
    "py.io.write_image(fig, str(generated_path / \"cells_dataset_sunburst.pdf\"))"
   ]
  }
 ],
 "metadata": {
  "kernelspec": {
   "display_name": "Python 3",
   "language": "python",
   "name": "python3"
  },
  "language_info": {
   "codemirror_mode": {
    "name": "ipython",
    "version": 3
   },
   "file_extension": ".py",
   "mimetype": "text/x-python",
   "name": "python",
   "nbconvert_exporter": "python",
   "pygments_lexer": "ipython3",
   "version": "3.6.7"
  }
 },
 "nbformat": 4,
 "nbformat_minor": 2
}
